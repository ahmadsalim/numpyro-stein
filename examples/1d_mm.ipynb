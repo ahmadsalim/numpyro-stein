{
 "nbformat": 4,
 "nbformat_minor": 2,
 "metadata": {
  "language_info": {
   "name": "python",
   "codemirror_mode": {
    "name": "ipython",
    "version": 3
   },
   "version": "3.8.2-final"
  },
  "orig_nbformat": 2,
  "file_extension": ".py",
  "mimetype": "text/x-python",
  "name": "python",
  "npconvert_exporter": "python",
  "pygments_lexer": "ipython3",
  "version": 3,
  "kernelspec": {
   "name": "python3",
   "display_name": "Python 3"
  }
 },
 "cells": [
  {
   "cell_type": "code",
   "execution_count": 1,
   "metadata": {},
   "outputs": [
    {
     "output_type": "error",
     "ename": "NameError",
     "evalue": "name 'SteinKernel' is not defined",
     "traceback": [
      "\u001b[0;31m---------------------------------------------------------------------------\u001b[0m",
      "\u001b[0;31mNameError\u001b[0m                                 Traceback (most recent call last)",
      "\u001b[0;32m<ipython-input-1-d9dfa1a218ef>\u001b[0m in \u001b[0;36m<module>\u001b[0;34m\u001b[0m\n\u001b[1;32m      5\u001b[0m \u001b[0;32mfrom\u001b[0m \u001b[0mnumpyro_stein\u001b[0m\u001b[0;34m.\u001b[0m\u001b[0mstein\u001b[0m\u001b[0;34m.\u001b[0m\u001b[0mautoguides\u001b[0m \u001b[0;32mimport\u001b[0m \u001b[0mAutoDelta\u001b[0m\u001b[0;34m\u001b[0m\u001b[0;34m\u001b[0m\u001b[0m\n\u001b[1;32m      6\u001b[0m \u001b[0;32mfrom\u001b[0m \u001b[0mnumpyro_stein\u001b[0m\u001b[0;34m.\u001b[0m\u001b[0mutil\u001b[0m \u001b[0;32mimport\u001b[0m \u001b[0minit_with_noise\u001b[0m\u001b[0;34m\u001b[0m\u001b[0;34m\u001b[0m\u001b[0m\n\u001b[0;32m----> 7\u001b[0;31m \u001b[0;32mfrom\u001b[0m \u001b[0mnumpyro_stein\u001b[0m\u001b[0;34m.\u001b[0m\u001b[0mstein\u001b[0m\u001b[0;34m.\u001b[0m\u001b[0mstein\u001b[0m \u001b[0;32mimport\u001b[0m \u001b[0mSVGD\u001b[0m\u001b[0;34m\u001b[0m\u001b[0;34m\u001b[0m\u001b[0m\n\u001b[0m\u001b[1;32m      8\u001b[0m \u001b[0;32mfrom\u001b[0m \u001b[0mnumpyro_stein\u001b[0m\u001b[0;34m.\u001b[0m\u001b[0mdistributions\u001b[0m\u001b[0;34m.\u001b[0m\u001b[0mnormal_mixture_distribution\u001b[0m \u001b[0;32mimport\u001b[0m \u001b[0mNormalMixture\u001b[0m\u001b[0;34m\u001b[0m\u001b[0;34m\u001b[0m\u001b[0m\n\u001b[1;32m      9\u001b[0m \u001b[0;32mfrom\u001b[0m \u001b[0mnumpyro_stein\u001b[0m\u001b[0;34m.\u001b[0m\u001b[0mstein\u001b[0m\u001b[0;34m.\u001b[0m\u001b[0mkernels\u001b[0m \u001b[0;32mimport\u001b[0m \u001b[0mSteinKernel\u001b[0m\u001b[0;34m\u001b[0m\u001b[0;34m\u001b[0m\u001b[0m\n",
      "\u001b[0;32m~/Documents/SourceControl/numpyro_stein/numpyro_stein/stein/stein.py\u001b[0m in \u001b[0;36m<module>\u001b[0;34m\u001b[0m\n\u001b[1;32m     26\u001b[0m \u001b[0;34m\u001b[0m\u001b[0m\n\u001b[1;32m     27\u001b[0m \u001b[0;31m# Lots of code based on SVI interface and commonalities should be refactored\u001b[0m\u001b[0;34m\u001b[0m\u001b[0;34m\u001b[0m\u001b[0;34m\u001b[0m\u001b[0m\n\u001b[0;32m---> 28\u001b[0;31m \u001b[0;32mclass\u001b[0m \u001b[0mSVGD\u001b[0m\u001b[0;34m(\u001b[0m\u001b[0mobject\u001b[0m\u001b[0;34m)\u001b[0m\u001b[0;34m:\u001b[0m\u001b[0;34m\u001b[0m\u001b[0;34m\u001b[0m\u001b[0m\n\u001b[0m\u001b[1;32m     29\u001b[0m     \"\"\"\n\u001b[1;32m     30\u001b[0m     \u001b[0mStein\u001b[0m \u001b[0mVariational\u001b[0m \u001b[0mGradient\u001b[0m \u001b[0mDescent\u001b[0m \u001b[0;32mfor\u001b[0m \u001b[0mNon\u001b[0m\u001b[0;34m-\u001b[0m\u001b[0mparametric\u001b[0m \u001b[0mInference\u001b[0m\u001b[0;34m.\u001b[0m\u001b[0;34m\u001b[0m\u001b[0;34m\u001b[0m\u001b[0m\n",
      "\u001b[0;32m~/Documents/SourceControl/numpyro_stein/numpyro_stein/stein/stein.py\u001b[0m in \u001b[0;36mSVGD\u001b[0;34m()\u001b[0m\n\u001b[1;32m     46\u001b[0m         \u001b[0mthat\u001b[0m \u001b[0mremain\u001b[0m \u001b[0mconstant\u001b[0m \u001b[0mduring\u001b[0m \u001b[0mfitting\u001b[0m\u001b[0;34m.\u001b[0m\u001b[0;34m\u001b[0m\u001b[0;34m\u001b[0m\u001b[0m\n\u001b[1;32m     47\u001b[0m     \"\"\"\n\u001b[0;32m---> 48\u001b[0;31m     def __init__(self, model, guide, optim, loss, kernel_fn: SteinKernel,\n\u001b[0m\u001b[1;32m     49\u001b[0m                  \u001b[0mnum_stein_particles\u001b[0m\u001b[0;34m:\u001b[0m \u001b[0mint\u001b[0m\u001b[0;34m=\u001b[0m\u001b[0;36m10\u001b[0m\u001b[0;34m,\u001b[0m \u001b[0mnum_loss_particles\u001b[0m\u001b[0;34m:\u001b[0m \u001b[0mint\u001b[0m\u001b[0;34m=\u001b[0m\u001b[0;36m2\u001b[0m\u001b[0;34m,\u001b[0m\u001b[0;34m\u001b[0m\u001b[0;34m\u001b[0m\u001b[0m\n\u001b[1;32m     50\u001b[0m                  \u001b[0mloss_temperature\u001b[0m\u001b[0;34m:\u001b[0m \u001b[0mfloat\u001b[0m\u001b[0;34m=\u001b[0m\u001b[0;36m1.0\u001b[0m\u001b[0;34m,\u001b[0m \u001b[0mrepulsion_temperature\u001b[0m\u001b[0;34m:\u001b[0m \u001b[0mfloat\u001b[0m\u001b[0;34m=\u001b[0m\u001b[0;36m1.0\u001b[0m\u001b[0;34m,\u001b[0m\u001b[0;34m\u001b[0m\u001b[0;34m\u001b[0m\u001b[0m\n",
      "\u001b[0;31mNameError\u001b[0m: name 'SteinKernel' is not defined"
     ]
    }
   ],
   "source": [
    "import matplotlib.pyplot as plt\n",
    "import numpyro\n",
    "import numpyro.distributions as dist\n",
    "import numpyro_stein.stein.kernels as kernels\n",
    "from numpyro_stein.stein.autoguides import AutoDelta\n",
    "from numpyro_stein.util import init_with_noise\n",
    "from numpyro_stein.stein.stein import SVGD\n",
    "from numpyro_stein.distributions.normal_mixture_distribution import NormalMixture\n",
    "from numpyro_stein.stein.kernels import SteinKernel\n",
    "from numpyro.infer import ELBO\n",
    "from numpyro.infer.util import init_to_value\n",
    "import seaborn as sns\n",
    "import os\n",
    "import jax\n",
    "import jax.numpy as np\n",
    "from random import randint"
   ]
  },
  {
   "cell_type": "code",
   "execution_count": null,
   "metadata": {},
   "outputs": [],
   "source": [
    "rng_key = jax.random.PRNGKey(randint(0, int(1e6)))\n",
    "num_iterations = 1500"
   ]
  },
  {
   "cell_type": "code",
   "execution_count": null,
   "metadata": {},
   "outputs": [],
   "source": [
    "def model():\n",
    "    numpyro.sample('x', NormalMixture(np.array([1/3, 2/3]), \n",
    "                                      np.array([-2., 2.]), np.array([1., 1.])))"
   ]
  },
  {
   "cell_type": "code",
   "execution_count": null,
   "metadata": {},
   "outputs": [],
   "source": [
    "guide = AutoDelta(model, init_strategy=init_with_noise(init_to_value({'x': -10.}), noise_scale=1.0))\n",
    "svgd = SVGD(model, guide, numpyro.optim.Adagrad(step_size=1.0), ELBO(),\n",
    "            kernels.RBFKernel(bandwidth_factor=lambda n: 1.), num_stein_particles=100, num_loss_particles=3)\n",
    "svgd_state = svgd.init(rng_key)"
   ]
  },
  {
   "cell_type": "code",
   "execution_count": null,
   "metadata": {},
   "outputs": [],
   "source": [
    "sns.kdeplot(svgd.get_params(svgd_state)['auto_x'])\n"
   ]
  },
  {
   "cell_type": "code",
   "execution_count": null,
   "metadata": {},
   "outputs": [],
   "source": [
    "for i in range(num_iterations):\n",
    "    svgd_state, loss = svgd.update(svgd_state)\n",
    "    if i % 100 == 0:\n",
    "        print(loss)"
   ]
  },
  {
   "cell_type": "code",
   "execution_count": null,
   "metadata": {},
   "outputs": [],
   "source": [
    "plt.clf()\n",
    "sns.kdeplot(svgd.get_params(svgd_state)['auto_x'])"
   ]
  },
  {
   "cell_type": "code",
   "execution_count": null,
   "metadata": {},
   "outputs": [],
   "source": [
    "svgd.get_params(svgd_state)"
   ]
  }
 ]
}