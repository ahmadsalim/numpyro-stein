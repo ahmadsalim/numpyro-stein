{
 "nbformat": 4,
 "nbformat_minor": 2,
 "metadata": {
  "language_info": {
   "name": "python",
   "codemirror_mode": {
    "name": "ipython",
    "version": 3
   },
   "version": "3.8.2-final"
  },
  "orig_nbformat": 2,
  "file_extension": ".py",
  "mimetype": "text/x-python",
  "name": "python",
  "npconvert_exporter": "python",
  "pygments_lexer": "ipython3",
  "version": 3,
  "kernelspec": {
   "name": "python38264bitae5f2af3297f41dd9420774d1e1722e6",
   "display_name": "Python 3.8.2 64-bit"
  }
 },
 "cells": [
  {
   "cell_type": "code",
   "execution_count": 1,
   "metadata": {},
   "outputs": [],
   "source": [
    "import matplotlib.pyplot as plt\n",
    "import numpyro\n",
    "from numpyro import handlers\n",
    "import numpyro.distributions as dist\n",
    "import numpyro_stein.stein.kernels as kernels\n",
    "from numpyro.infer.util import Predictive\n",
    "from numpyro_stein.stein.autoguides import AutoDelta\n",
    "from numpyro_stein.util import init_with_noise\n",
    "from numpyro_stein.stein.stein import SVGD\n",
    "from numpyro_stein.distributions.normal_mixture_distribution import NormalMixture\n",
    "from numpyro_stein.stein.kernels import SteinKernel\n",
    "from numpyro.infer import ELBO\n",
    "from numpyro.infer.util import init_to_value\n",
    "from tqdm import tqdm\n",
    "import seaborn as sns\n",
    "import os\n",
    "import jax\n",
    "import jax.numpy as np\n",
    "from random import randint\n",
    "import scipy.io"
   ]
  },
  {
   "cell_type": "code",
   "execution_count": 2,
   "metadata": {},
   "outputs": [],
   "source": [
    "# From http://theoval.cmp.uea.ac.uk/matlab/default.html\n",
    "data = scipy.io.loadmat('data/benchmarks.mat')"
   ]
  },
  {
   "cell_type": "code",
   "execution_count": 3,
   "metadata": {
    "tags": [
     "outputPrepend"
    ]
   },
   "outputs": [],
   "source": [
    "datasets = {k: {'train': {'input': v['x'][0, 0][v['train'][0, 0][13, :] - 1], 'class': (v['t'][0, 0][v['train'][0, 0][13, :] - 1] == 1).astype('float')[:, 0]}, 'test': {'input': v['x'][0, 0][v['test'][0, 0][13, :] - 1], 'class': (v['t'][0, 0][v['test'][0, 0][13, :] - 1] == 1).astype('float')[:, 0]}} for k, v in data.items() if not str.startswith(k, \"__\") and not k == 'benchmarks' and v['x'][0, 0].shape[0] > 500}"
   ]
  },
  {
   "cell_type": "code",
   "execution_count": 4,
   "metadata": {},
   "outputs": [],
   "source": [
    "rng_key = jax.random.PRNGKey(randint(0, int(1e6)))\n",
    "num_iterations = 3000\n",
    "num_particles = 100"
   ]
  },
  {
   "cell_type": "code",
   "execution_count": 5,
   "metadata": {},
   "outputs": [],
   "source": [
    "def model(data, classes=None):\n",
    "    alpha = numpyro.sample('alpha', dist.InverseGamma(concentration=1.0, rate=0.01))\n",
    "    w = numpyro.sample('w', dist.Normal(loc=np.zeros(data.shape[1]+1), scale=alpha))\n",
    "    with numpyro.plate('data', data.shape[0]):\n",
    "        biased_data = np.concatenate((np.ones((data.shape[0],1)), data), axis=1)\n",
    "        return numpyro.sample('x', dist.Bernoulli(logits=biased_data @ w), obs=classes)"
   ]
  },
  {
   "cell_type": "code",
   "execution_count": 6,
   "metadata": {},
   "outputs": [],
   "source": [
    "guide = AutoDelta(model, init_strategy=init_with_noise(init_to_value({'x': -10.}), noise_scale=1.0))"
   ]
  },
  {
   "cell_type": "code",
   "execution_count": 7,
   "metadata": {},
   "outputs": [],
   "source": [
    "def test_accuracy(rng_key, testset, params, num_pred=100):\n",
    "    def single_test_accuracy(rng_key, testset, params):\n",
    "        guide_trace = handlers.trace(handlers.substitute(guide, params)).get_trace(testset['input'])\n",
    "        model_trace = handlers.trace(handlers.replay(handlers.seed(model, rng_key), guide_trace)).get_trace(testset['input'])\n",
    "        accuracy = np.count_nonzero(model_trace['x']['value'] == testset['class']) / testset['input'].shape[0] * 100\n",
    "        return accuracy\n",
    "    accs = []\n",
    "    for i in range(num_particles):\n",
    "        ps = {k: param[i] for k, param in params.items()}\n",
    "        accs.append(jax.vmap(lambda rnk: single_test_accuracy(rnk, testset, ps))(jax.random.split(rng_key, num_pred)))\n",
    "    return np.mean(np.stack(accs))"
   ]
  },
  {
   "cell_type": "code",
   "execution_count": 8,
   "metadata": {},
   "outputs": [
    {
     "output_type": "stream",
     "name": "stdout",
     "text": "banana\nSVGD 262.6: 100%|██████████| 3000/3000 [00:10<00:00, 292.19it/s]\n50.22365\ndiabetis\nSVGD 226.35: 100%|██████████| 3000/3000 [00:11<00:00, 258.62it/s]\n69.63957\ngerman\nSVGD 355.4: 100%|██████████| 3000/3000 [00:13<00:00, 226.81it/s]\n65.847916\nimage\nSVGD 583.71: 100%|██████████| 3000/3000 [00:14<00:00, 208.16it/s]\n71.91128\nringnorm\nSVGD 197.0: 100%|██████████| 3000/3000 [00:12<00:00, 241.96it/s]\n67.29388\nsplice\nSVGD 655.49: 100%|██████████| 3000/3000 [00:16<00:00, 183.54it/s]\n78.565254\ntwonorm\nSVGD 63.506: 100%|██████████| 3000/3000 [00:12<00:00, 233.72it/s]\n93.6621\nwaveform\nSVGD 135.58: 100%|██████████| 3000/3000 [00:12<00:00, 238.55it/s]\n81.10428\n"
    }
   ],
   "source": [
    "for name, dataset in datasets.items():\n",
    "    print(name)\n",
    "    svgd = SVGD(model, guide, numpyro.optim.Adagrad(step_size=.05), ELBO(),\n",
    "            kernels.RBFKernel(), num_stein_particles=num_particles,\n",
    "            repulsion_temperature=dataset['train']['input'].shape[0] ** -1 * 0.01)\n",
    "    svgd_state, loss = svgd.run(rng_key, num_iterations, dataset['train']['input'], dataset['train']['class'])\n",
    "    print(test_accuracy(svgd_state.rng_key, dataset['train'], svgd.get_params(svgd_state)))"
   ]
  },
  {
   "cell_type": "code",
   "execution_count": null,
   "metadata": {},
   "outputs": [],
   "source": []
  }
 ]
}